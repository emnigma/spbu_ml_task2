{
  "cells": [
    {
      "cell_type": "markdown",
      "metadata": {
        "_uuid": "5878df22aae1c5888a07fe2c49d0bbe1551a3c55",
        "id": "pNVfjfoD4-3e"
      },
      "source": [
        "# <center>SPBU ML<br>Задача 2. Сравнение методов классификации<br>Heart Disease</center>"
      ]
    },
    {
      "cell_type": "markdown",
      "metadata": {},
      "source": [
        "Нигматулин Максим Владиславович, 22.М07-мм\n",
        "  \n",
        "<br>✅\n",
        " Самостоятельно реализовать один из методов классификации, с возможностью настройки гиперпараметров.\n",
        " <br>✅Взять данные для предсказания заболеваний сердца тут (целевой признак для предсказания --- target). Демо блакнот с анализом этих данных можно найти тут.\n",
        " <br>✅Считать данные, выполнить первичный анализ данных, при необходимости произвести чистку данных (Data Cleaning).\n",
        " <br>✅Выполнить разведочный анализ (EDA), использовать визуализацию, сделать выводы, которые могут быть полезны при дальнейшем решении задачи классификации.\n",
        " <br>✅ри необходимости выполнить полезные преобразования данных (например, трансформировать категариальные признаки в количественные), убрать ненужные признаки, создать новые (Feature Engineering).\n",
        " <br>✅Используя подбор гиперпараметров, кросс-валидацию и при необходимости масштабирование данных, добиться наилучшего качества предсказания от Вашей реализации на выделенной заранее тестовой выборке.\n",
        " <br>✅Повторить предыдущий пункт для библиотечных реализаций (например, из sklearn) всех пройденных методов классификации (logistic regression, svm, knn, naive bayes, decision tree).\n",
        " <br>✅Сравнить все обученные модели, построить их confusion matrices. Сделать выводы о полученных моделях в рамках решения задачи классификации на выбранных данных.\n",
        " <br>✅* (+2 балла) Реализовать еще один из методов классификации и добавить его в сравнение.\n",
        " <br>✅* (+2 балла) Найти данные, на которых интересно будет решать задачу классификации. Повторить все пункты задания на новых данных."
      ]
    },
    {
      "cell_type": "code",
      "execution_count": 1,
      "metadata": {
        "_cell_guid": "b1076dfc-b9ad-4769-8c92-a6c4dae69d19",
        "_uuid": "8f2839f25d086af736a60e9eeb907d3b93b6e0e5",
        "id": "CgiEMCoT4-3g"
      },
      "outputs": [],
      "source": [
        "import numpy as np\n",
        "import pandas as pd\n",
        "import matplotlib.pyplot as plt\n",
        "import seaborn as sns\n",
        "import warnings\n",
        "import sklearn\n",
        "warnings.filterwarnings('ignore')  # отключаем предупреждения"
      ]
    },
    {
      "cell_type": "markdown",
      "metadata": {
        "_cell_guid": "79c7e3d0-c299-4dcb-8224-4455121ee9b0",
        "_uuid": "d629ff2d2480ee46fbb7e2d37f6b5fab8052498a",
        "id": "zTBENjih4-3i"
      },
      "source": [
        "## Чтение данных"
      ]
    },
    {
      "cell_type": "code",
      "execution_count": 2,
      "metadata": {
        "_uuid": "8d0ffd4e0549f6f2eb24c7cc258256f2fb63ec48",
        "colab": {
          "base_uri": "https://localhost:8080/",
          "height": 204
        },
        "id": "aDDqUub94-3i",
        "outputId": "32431d7c-f702-4bdf-f7e3-093f36ba1d1e"
      },
      "outputs": [
        {
          "data": {
            "text/html": [
              "\n",
              "  <div id=\"df-7e570ced-de56-4c10-9b6e-7352ef457d56\">\n",
              "    <div class=\"colab-df-container\">\n",
              "      <div>\n",
              "<style scoped>\n",
              "    .dataframe tbody tr th:only-of-type {\n",
              "        vertical-align: middle;\n",
              "    }\n",
              "\n",
              "    .dataframe tbody tr th {\n",
              "        vertical-align: top;\n",
              "    }\n",
              "\n",
              "    .dataframe thead th {\n",
              "        text-align: right;\n",
              "    }\n",
              "</style>\n",
              "<table border=\"1\" class=\"dataframe\">\n",
              "  <thead>\n",
              "    <tr style=\"text-align: right;\">\n",
              "      <th></th>\n",
              "      <th>age</th>\n",
              "      <th>sex</th>\n",
              "      <th>cp</th>\n",
              "      <th>trestbps</th>\n",
              "      <th>chol</th>\n",
              "      <th>fbs</th>\n",
              "      <th>restecg</th>\n",
              "      <th>thalach</th>\n",
              "      <th>exang</th>\n",
              "      <th>oldpeak</th>\n",
              "      <th>slope</th>\n",
              "      <th>ca</th>\n",
              "      <th>thal</th>\n",
              "      <th>target</th>\n",
              "    </tr>\n",
              "  </thead>\n",
              "  <tbody>\n",
              "    <tr>\n",
              "      <th>0</th>\n",
              "      <td>52</td>\n",
              "      <td>1</td>\n",
              "      <td>0</td>\n",
              "      <td>125</td>\n",
              "      <td>212</td>\n",
              "      <td>0</td>\n",
              "      <td>1</td>\n",
              "      <td>168</td>\n",
              "      <td>0</td>\n",
              "      <td>1.0</td>\n",
              "      <td>2</td>\n",
              "      <td>2</td>\n",
              "      <td>3</td>\n",
              "      <td>0</td>\n",
              "    </tr>\n",
              "    <tr>\n",
              "      <th>1</th>\n",
              "      <td>53</td>\n",
              "      <td>1</td>\n",
              "      <td>0</td>\n",
              "      <td>140</td>\n",
              "      <td>203</td>\n",
              "      <td>1</td>\n",
              "      <td>0</td>\n",
              "      <td>155</td>\n",
              "      <td>1</td>\n",
              "      <td>3.1</td>\n",
              "      <td>0</td>\n",
              "      <td>0</td>\n",
              "      <td>3</td>\n",
              "      <td>0</td>\n",
              "    </tr>\n",
              "    <tr>\n",
              "      <th>2</th>\n",
              "      <td>70</td>\n",
              "      <td>1</td>\n",
              "      <td>0</td>\n",
              "      <td>145</td>\n",
              "      <td>174</td>\n",
              "      <td>0</td>\n",
              "      <td>1</td>\n",
              "      <td>125</td>\n",
              "      <td>1</td>\n",
              "      <td>2.6</td>\n",
              "      <td>0</td>\n",
              "      <td>0</td>\n",
              "      <td>3</td>\n",
              "      <td>0</td>\n",
              "    </tr>\n",
              "    <tr>\n",
              "      <th>3</th>\n",
              "      <td>61</td>\n",
              "      <td>1</td>\n",
              "      <td>0</td>\n",
              "      <td>148</td>\n",
              "      <td>203</td>\n",
              "      <td>0</td>\n",
              "      <td>1</td>\n",
              "      <td>161</td>\n",
              "      <td>0</td>\n",
              "      <td>0.0</td>\n",
              "      <td>2</td>\n",
              "      <td>1</td>\n",
              "      <td>3</td>\n",
              "      <td>0</td>\n",
              "    </tr>\n",
              "    <tr>\n",
              "      <th>4</th>\n",
              "      <td>62</td>\n",
              "      <td>0</td>\n",
              "      <td>0</td>\n",
              "      <td>138</td>\n",
              "      <td>294</td>\n",
              "      <td>1</td>\n",
              "      <td>1</td>\n",
              "      <td>106</td>\n",
              "      <td>0</td>\n",
              "      <td>1.9</td>\n",
              "      <td>1</td>\n",
              "      <td>3</td>\n",
              "      <td>2</td>\n",
              "      <td>0</td>\n",
              "    </tr>\n",
              "  </tbody>\n",
              "</table>\n",
              "</div>\n",
              "      <button class=\"colab-df-convert\" onclick=\"convertToInteractive('df-7e570ced-de56-4c10-9b6e-7352ef457d56')\"\n",
              "              title=\"Convert this dataframe to an interactive table.\"\n",
              "              style=\"display:none;\">\n",
              "        \n",
              "  <svg xmlns=\"http://www.w3.org/2000/svg\" height=\"24px\"viewBox=\"0 0 24 24\"\n",
              "       width=\"24px\">\n",
              "    <path d=\"M0 0h24v24H0V0z\" fill=\"none\"/>\n",
              "    <path d=\"M18.56 5.44l.94 2.06.94-2.06 2.06-.94-2.06-.94-.94-2.06-.94 2.06-2.06.94zm-11 1L8.5 8.5l.94-2.06 2.06-.94-2.06-.94L8.5 2.5l-.94 2.06-2.06.94zm10 10l.94 2.06.94-2.06 2.06-.94-2.06-.94-.94-2.06-.94 2.06-2.06.94z\"/><path d=\"M17.41 7.96l-1.37-1.37c-.4-.4-.92-.59-1.43-.59-.52 0-1.04.2-1.43.59L10.3 9.45l-7.72 7.72c-.78.78-.78 2.05 0 2.83L4 21.41c.39.39.9.59 1.41.59.51 0 1.02-.2 1.41-.59l7.78-7.78 2.81-2.81c.8-.78.8-2.07 0-2.86zM5.41 20L4 18.59l7.72-7.72 1.47 1.35L5.41 20z\"/>\n",
              "  </svg>\n",
              "      </button>\n",
              "      \n",
              "  <style>\n",
              "    .colab-df-container {\n",
              "      display:flex;\n",
              "      flex-wrap:wrap;\n",
              "      gap: 12px;\n",
              "    }\n",
              "\n",
              "    .colab-df-convert {\n",
              "      background-color: #E8F0FE;\n",
              "      border: none;\n",
              "      border-radius: 50%;\n",
              "      cursor: pointer;\n",
              "      display: none;\n",
              "      fill: #1967D2;\n",
              "      height: 32px;\n",
              "      padding: 0 0 0 0;\n",
              "      width: 32px;\n",
              "    }\n",
              "\n",
              "    .colab-df-convert:hover {\n",
              "      background-color: #E2EBFA;\n",
              "      box-shadow: 0px 1px 2px rgba(60, 64, 67, 0.3), 0px 1px 3px 1px rgba(60, 64, 67, 0.15);\n",
              "      fill: #174EA6;\n",
              "    }\n",
              "\n",
              "    [theme=dark] .colab-df-convert {\n",
              "      background-color: #3B4455;\n",
              "      fill: #D2E3FC;\n",
              "    }\n",
              "\n",
              "    [theme=dark] .colab-df-convert:hover {\n",
              "      background-color: #434B5C;\n",
              "      box-shadow: 0px 1px 3px 1px rgba(0, 0, 0, 0.15);\n",
              "      filter: drop-shadow(0px 1px 2px rgba(0, 0, 0, 0.3));\n",
              "      fill: #FFFFFF;\n",
              "    }\n",
              "  </style>\n",
              "\n",
              "      <script>\n",
              "        const buttonEl =\n",
              "          document.querySelector('#df-7e570ced-de56-4c10-9b6e-7352ef457d56 button.colab-df-convert');\n",
              "        buttonEl.style.display =\n",
              "          google.colab.kernel.accessAllowed ? 'block' : 'none';\n",
              "\n",
              "        async function convertToInteractive(key) {\n",
              "          const element = document.querySelector('#df-7e570ced-de56-4c10-9b6e-7352ef457d56');\n",
              "          const dataTable =\n",
              "            await google.colab.kernel.invokeFunction('convertToInteractive',\n",
              "                                                     [key], {});\n",
              "          if (!dataTable) return;\n",
              "\n",
              "          const docLinkHtml = 'Like what you see? Visit the ' +\n",
              "            '<a target=\"_blank\" href=https://colab.research.google.com/notebooks/data_table.ipynb>data table notebook</a>'\n",
              "            + ' to learn more about interactive tables.';\n",
              "          element.innerHTML = '';\n",
              "          dataTable['output_type'] = 'display_data';\n",
              "          await google.colab.output.renderOutput(dataTable, element);\n",
              "          const docLink = document.createElement('div');\n",
              "          docLink.innerHTML = docLinkHtml;\n",
              "          element.appendChild(docLink);\n",
              "        }\n",
              "      </script>\n",
              "    </div>\n",
              "  </div>\n",
              "  "
            ],
            "text/plain": [
              "   age  sex  cp  trestbps  chol  fbs  restecg  thalach  exang  oldpeak  slope  \\\n",
              "0   52    1   0       125   212    0        1      168      0      1.0      2   \n",
              "1   53    1   0       140   203    1        0      155      1      3.1      0   \n",
              "2   70    1   0       145   174    0        1      125      1      2.6      0   \n",
              "3   61    1   0       148   203    0        1      161      0      0.0      2   \n",
              "4   62    0   0       138   294    1        1      106      0      1.9      1   \n",
              "\n",
              "   ca  thal  target  \n",
              "0   2     3       0  \n",
              "1   0     3       0  \n",
              "2   0     3       0  \n",
              "3   1     3       0  \n",
              "4   3     2       0  "
            ]
          },
          "execution_count": 2,
          "metadata": {},
          "output_type": "execute_result"
        }
      ],
      "source": [
        "df = pd.read_csv('heart.csv')\n",
        "df.head()"
      ]
    },
    {
      "cell_type": "markdown",
      "metadata": {
        "_uuid": "e7df2228490edc65cef3d01659b4ef96fe15e191",
        "id": "gFmkZuNw4-3j"
      },
      "source": [
        "Возьмём данные заболеваний сердца у пациентов, которые можно скачать [тут](https://www.kaggle.com/code/ahmedadell30/heart-disease-prediction-with-ann-models/data).\n",
        "\n",
        "Описание датасета: <br>\n",
        "\n",
        "* age - age in years <br>\n",
        "* sex - (1 = male; 0 = female) <br>\n",
        "* cp - chest pain type <br>\n",
        "* trestbps - resting blood pressure (in mm Hg on admission to the hospital) <br>\n",
        "* chol - serum cholestoral in mg/dl <br>\n",
        "* fbs - (fasting blood sugar > 120 mg/dl) (1 = true; 0 = false) <br>\n",
        "* restecg - resting electrocardiographic results <br>\n",
        "* thalach - maximum heart rate achieved <br>\n",
        "* exang - exercise induced angina (1 = yes; 0 = no) <br>\n",
        "* oldpeak - ST depression induced by exercise relative to rest <br>\n",
        "* slope - the slope of the peak exercise ST segment <br>\n",
        "* ca - number of major vessels (0-3) colored by flourosopy <br>\n",
        "* thal - 3 = normal; 6 = fixed defect; 7 = reversable defect <br>\n",
        "* target - have disease or not (1=yes, 0=no)\n",
        "\n",
        "Необходимо решить задачу классификации и научиться предсказывать целовой признак **target** имеет ли пациент заболевание сердца."
      ]
    },
    {
      "cell_type": "markdown",
      "metadata": {
        "_uuid": "5c510b6aea2f9083981bf75dc67c5250b3b891c7",
        "id": "AZ3jSLvl4-3j"
      },
      "source": [
        "## EDA\n",
        "\n",
        "Посмотрим, интерпретируем старые и новые графики, попробуем обнаружить зависимости"
      ]
    },
    {
      "cell_type": "code",
      "execution_count": 3,
      "metadata": {
        "_uuid": "00af1961381609399dd80ca7c6a950277c120357",
        "colab": {
          "base_uri": "https://localhost:8080/"
        },
        "id": "ZmNDtAlt4-3k",
        "outputId": "a232e2e3-31d2-4091-9831-3e775d2d2522"
      },
      "outputs": [
        {
          "data": {
            "text/plain": [
              "1    526\n",
              "0    499\n",
              "Name: target, dtype: int64"
            ]
          },
          "execution_count": 3,
          "metadata": {},
          "output_type": "execute_result"
        }
      ],
      "source": [
        "df.target.value_counts()"
      ]
    },
    {
      "cell_type": "code",
      "execution_count": 4,
      "metadata": {
        "colab": {
          "base_uri": "https://localhost:8080/",
          "height": 361
        },
        "id": "2B7FeH7KRo7j",
        "outputId": "62d63a90-dabb-42e9-919e-af943b7bbc66"
      },
      "outputs": [
        {
          "data": {
            "text/html": [
              "\n",
              "  <div id=\"df-83ea756d-a19f-4feb-8775-6d9f24e792eb\">\n",
              "    <div class=\"colab-df-container\">\n",
              "      <div>\n",
              "<style scoped>\n",
              "    .dataframe tbody tr th:only-of-type {\n",
              "        vertical-align: middle;\n",
              "    }\n",
              "\n",
              "    .dataframe tbody tr th {\n",
              "        vertical-align: top;\n",
              "    }\n",
              "\n",
              "    .dataframe thead th {\n",
              "        text-align: right;\n",
              "    }\n",
              "</style>\n",
              "<table border=\"1\" class=\"dataframe\">\n",
              "  <thead>\n",
              "    <tr style=\"text-align: right;\">\n",
              "      <th></th>\n",
              "      <th>age</th>\n",
              "      <th>sex</th>\n",
              "      <th>cp</th>\n",
              "      <th>trestbps</th>\n",
              "      <th>chol</th>\n",
              "      <th>fbs</th>\n",
              "      <th>restecg</th>\n",
              "      <th>thalach</th>\n",
              "      <th>exang</th>\n",
              "      <th>oldpeak</th>\n",
              "      <th>slope</th>\n",
              "      <th>ca</th>\n",
              "      <th>thal</th>\n",
              "      <th>target</th>\n",
              "    </tr>\n",
              "  </thead>\n",
              "  <tbody>\n",
              "    <tr>\n",
              "      <th>count</th>\n",
              "      <td>1025.000000</td>\n",
              "      <td>1025.000000</td>\n",
              "      <td>1025.000000</td>\n",
              "      <td>1025.000000</td>\n",
              "      <td>1025.00000</td>\n",
              "      <td>1025.000000</td>\n",
              "      <td>1025.000000</td>\n",
              "      <td>1025.000000</td>\n",
              "      <td>1025.000000</td>\n",
              "      <td>1025.000000</td>\n",
              "      <td>1025.000000</td>\n",
              "      <td>1025.000000</td>\n",
              "      <td>1025.000000</td>\n",
              "      <td>1025.000000</td>\n",
              "    </tr>\n",
              "    <tr>\n",
              "      <th>mean</th>\n",
              "      <td>54.434146</td>\n",
              "      <td>0.695610</td>\n",
              "      <td>0.942439</td>\n",
              "      <td>131.611707</td>\n",
              "      <td>246.00000</td>\n",
              "      <td>0.149268</td>\n",
              "      <td>0.529756</td>\n",
              "      <td>149.114146</td>\n",
              "      <td>0.336585</td>\n",
              "      <td>1.071512</td>\n",
              "      <td>1.385366</td>\n",
              "      <td>0.754146</td>\n",
              "      <td>2.323902</td>\n",
              "      <td>0.513171</td>\n",
              "    </tr>\n",
              "    <tr>\n",
              "      <th>std</th>\n",
              "      <td>9.072290</td>\n",
              "      <td>0.460373</td>\n",
              "      <td>1.029641</td>\n",
              "      <td>17.516718</td>\n",
              "      <td>51.59251</td>\n",
              "      <td>0.356527</td>\n",
              "      <td>0.527878</td>\n",
              "      <td>23.005724</td>\n",
              "      <td>0.472772</td>\n",
              "      <td>1.175053</td>\n",
              "      <td>0.617755</td>\n",
              "      <td>1.030798</td>\n",
              "      <td>0.620660</td>\n",
              "      <td>0.500070</td>\n",
              "    </tr>\n",
              "    <tr>\n",
              "      <th>min</th>\n",
              "      <td>29.000000</td>\n",
              "      <td>0.000000</td>\n",
              "      <td>0.000000</td>\n",
              "      <td>94.000000</td>\n",
              "      <td>126.00000</td>\n",
              "      <td>0.000000</td>\n",
              "      <td>0.000000</td>\n",
              "      <td>71.000000</td>\n",
              "      <td>0.000000</td>\n",
              "      <td>0.000000</td>\n",
              "      <td>0.000000</td>\n",
              "      <td>0.000000</td>\n",
              "      <td>0.000000</td>\n",
              "      <td>0.000000</td>\n",
              "    </tr>\n",
              "    <tr>\n",
              "      <th>25%</th>\n",
              "      <td>48.000000</td>\n",
              "      <td>0.000000</td>\n",
              "      <td>0.000000</td>\n",
              "      <td>120.000000</td>\n",
              "      <td>211.00000</td>\n",
              "      <td>0.000000</td>\n",
              "      <td>0.000000</td>\n",
              "      <td>132.000000</td>\n",
              "      <td>0.000000</td>\n",
              "      <td>0.000000</td>\n",
              "      <td>1.000000</td>\n",
              "      <td>0.000000</td>\n",
              "      <td>2.000000</td>\n",
              "      <td>0.000000</td>\n",
              "    </tr>\n",
              "    <tr>\n",
              "      <th>50%</th>\n",
              "      <td>56.000000</td>\n",
              "      <td>1.000000</td>\n",
              "      <td>1.000000</td>\n",
              "      <td>130.000000</td>\n",
              "      <td>240.00000</td>\n",
              "      <td>0.000000</td>\n",
              "      <td>1.000000</td>\n",
              "      <td>152.000000</td>\n",
              "      <td>0.000000</td>\n",
              "      <td>0.800000</td>\n",
              "      <td>1.000000</td>\n",
              "      <td>0.000000</td>\n",
              "      <td>2.000000</td>\n",
              "      <td>1.000000</td>\n",
              "    </tr>\n",
              "    <tr>\n",
              "      <th>75%</th>\n",
              "      <td>61.000000</td>\n",
              "      <td>1.000000</td>\n",
              "      <td>2.000000</td>\n",
              "      <td>140.000000</td>\n",
              "      <td>275.00000</td>\n",
              "      <td>0.000000</td>\n",
              "      <td>1.000000</td>\n",
              "      <td>166.000000</td>\n",
              "      <td>1.000000</td>\n",
              "      <td>1.800000</td>\n",
              "      <td>2.000000</td>\n",
              "      <td>1.000000</td>\n",
              "      <td>3.000000</td>\n",
              "      <td>1.000000</td>\n",
              "    </tr>\n",
              "    <tr>\n",
              "      <th>max</th>\n",
              "      <td>77.000000</td>\n",
              "      <td>1.000000</td>\n",
              "      <td>3.000000</td>\n",
              "      <td>200.000000</td>\n",
              "      <td>564.00000</td>\n",
              "      <td>1.000000</td>\n",
              "      <td>2.000000</td>\n",
              "      <td>202.000000</td>\n",
              "      <td>1.000000</td>\n",
              "      <td>6.200000</td>\n",
              "      <td>2.000000</td>\n",
              "      <td>4.000000</td>\n",
              "      <td>3.000000</td>\n",
              "      <td>1.000000</td>\n",
              "    </tr>\n",
              "  </tbody>\n",
              "</table>\n",
              "</div>\n",
              "      <button class=\"colab-df-convert\" onclick=\"convertToInteractive('df-83ea756d-a19f-4feb-8775-6d9f24e792eb')\"\n",
              "              title=\"Convert this dataframe to an interactive table.\"\n",
              "              style=\"display:none;\">\n",
              "        \n",
              "  <svg xmlns=\"http://www.w3.org/2000/svg\" height=\"24px\"viewBox=\"0 0 24 24\"\n",
              "       width=\"24px\">\n",
              "    <path d=\"M0 0h24v24H0V0z\" fill=\"none\"/>\n",
              "    <path d=\"M18.56 5.44l.94 2.06.94-2.06 2.06-.94-2.06-.94-.94-2.06-.94 2.06-2.06.94zm-11 1L8.5 8.5l.94-2.06 2.06-.94-2.06-.94L8.5 2.5l-.94 2.06-2.06.94zm10 10l.94 2.06.94-2.06 2.06-.94-2.06-.94-.94-2.06-.94 2.06-2.06.94z\"/><path d=\"M17.41 7.96l-1.37-1.37c-.4-.4-.92-.59-1.43-.59-.52 0-1.04.2-1.43.59L10.3 9.45l-7.72 7.72c-.78.78-.78 2.05 0 2.83L4 21.41c.39.39.9.59 1.41.59.51 0 1.02-.2 1.41-.59l7.78-7.78 2.81-2.81c.8-.78.8-2.07 0-2.86zM5.41 20L4 18.59l7.72-7.72 1.47 1.35L5.41 20z\"/>\n",
              "  </svg>\n",
              "      </button>\n",
              "      \n",
              "  <style>\n",
              "    .colab-df-container {\n",
              "      display:flex;\n",
              "      flex-wrap:wrap;\n",
              "      gap: 12px;\n",
              "    }\n",
              "\n",
              "    .colab-df-convert {\n",
              "      background-color: #E8F0FE;\n",
              "      border: none;\n",
              "      border-radius: 50%;\n",
              "      cursor: pointer;\n",
              "      display: none;\n",
              "      fill: #1967D2;\n",
              "      height: 32px;\n",
              "      padding: 0 0 0 0;\n",
              "      width: 32px;\n",
              "    }\n",
              "\n",
              "    .colab-df-convert:hover {\n",
              "      background-color: #E2EBFA;\n",
              "      box-shadow: 0px 1px 2px rgba(60, 64, 67, 0.3), 0px 1px 3px 1px rgba(60, 64, 67, 0.15);\n",
              "      fill: #174EA6;\n",
              "    }\n",
              "\n",
              "    [theme=dark] .colab-df-convert {\n",
              "      background-color: #3B4455;\n",
              "      fill: #D2E3FC;\n",
              "    }\n",
              "\n",
              "    [theme=dark] .colab-df-convert:hover {\n",
              "      background-color: #434B5C;\n",
              "      box-shadow: 0px 1px 3px 1px rgba(0, 0, 0, 0.15);\n",
              "      filter: drop-shadow(0px 1px 2px rgba(0, 0, 0, 0.3));\n",
              "      fill: #FFFFFF;\n",
              "    }\n",
              "  </style>\n",
              "\n",
              "      <script>\n",
              "        const buttonEl =\n",
              "          document.querySelector('#df-83ea756d-a19f-4feb-8775-6d9f24e792eb button.colab-df-convert');\n",
              "        buttonEl.style.display =\n",
              "          google.colab.kernel.accessAllowed ? 'block' : 'none';\n",
              "\n",
              "        async function convertToInteractive(key) {\n",
              "          const element = document.querySelector('#df-83ea756d-a19f-4feb-8775-6d9f24e792eb');\n",
              "          const dataTable =\n",
              "            await google.colab.kernel.invokeFunction('convertToInteractive',\n",
              "                                                     [key], {});\n",
              "          if (!dataTable) return;\n",
              "\n",
              "          const docLinkHtml = 'Like what you see? Visit the ' +\n",
              "            '<a target=\"_blank\" href=https://colab.research.google.com/notebooks/data_table.ipynb>data table notebook</a>'\n",
              "            + ' to learn more about interactive tables.';\n",
              "          element.innerHTML = '';\n",
              "          dataTable['output_type'] = 'display_data';\n",
              "          await google.colab.output.renderOutput(dataTable, element);\n",
              "          const docLink = document.createElement('div');\n",
              "          docLink.innerHTML = docLinkHtml;\n",
              "          element.appendChild(docLink);\n",
              "        }\n",
              "      </script>\n",
              "    </div>\n",
              "  </div>\n",
              "  "
            ],
            "text/plain": [
              "               age          sex           cp     trestbps        chol  \\\n",
              "count  1025.000000  1025.000000  1025.000000  1025.000000  1025.00000   \n",
              "mean     54.434146     0.695610     0.942439   131.611707   246.00000   \n",
              "std       9.072290     0.460373     1.029641    17.516718    51.59251   \n",
              "min      29.000000     0.000000     0.000000    94.000000   126.00000   \n",
              "25%      48.000000     0.000000     0.000000   120.000000   211.00000   \n",
              "50%      56.000000     1.000000     1.000000   130.000000   240.00000   \n",
              "75%      61.000000     1.000000     2.000000   140.000000   275.00000   \n",
              "max      77.000000     1.000000     3.000000   200.000000   564.00000   \n",
              "\n",
              "               fbs      restecg      thalach        exang      oldpeak  \\\n",
              "count  1025.000000  1025.000000  1025.000000  1025.000000  1025.000000   \n",
              "mean      0.149268     0.529756   149.114146     0.336585     1.071512   \n",
              "std       0.356527     0.527878    23.005724     0.472772     1.175053   \n",
              "min       0.000000     0.000000    71.000000     0.000000     0.000000   \n",
              "25%       0.000000     0.000000   132.000000     0.000000     0.000000   \n",
              "50%       0.000000     1.000000   152.000000     0.000000     0.800000   \n",
              "75%       0.000000     1.000000   166.000000     1.000000     1.800000   \n",
              "max       1.000000     2.000000   202.000000     1.000000     6.200000   \n",
              "\n",
              "             slope           ca         thal       target  \n",
              "count  1025.000000  1025.000000  1025.000000  1025.000000  \n",
              "mean      1.385366     0.754146     2.323902     0.513171  \n",
              "std       0.617755     1.030798     0.620660     0.500070  \n",
              "min       0.000000     0.000000     0.000000     0.000000  \n",
              "25%       1.000000     0.000000     2.000000     0.000000  \n",
              "50%       1.000000     0.000000     2.000000     1.000000  \n",
              "75%       2.000000     1.000000     3.000000     1.000000  \n",
              "max       2.000000     4.000000     3.000000     1.000000  "
            ]
          },
          "execution_count": 4,
          "metadata": {},
          "output_type": "execute_result"
        }
      ],
      "source": [
        "df.describe()"
      ]
    },
    {
      "cell_type": "code",
      "execution_count": 5,
      "metadata": {
        "_uuid": "f0c639a82d794e41978199f7fa4405a01a7b805e",
        "colab": {
          "base_uri": "https://localhost:8080/",
          "height": 279
        },
        "id": "c0xKLIjk4-3l",
        "outputId": "e21c763a-bee1-48ca-860a-b6855f5da9b9"
      },
      "outputs": [
        {
          "data": {
            "image/png": "[encoded data removed]",
            "text/plain": [
              "<Figure size 432x288 with 1 Axes>"
            ]
          },
          "metadata": {
            "needs_background": "light"
          },
          "output_type": "display_data"
        }
      ],
      "source": [
        "sns.countplot(x=\"target\", data=df)\n",
        "plt.show()"
      ]
    },
    {
      "cell_type": "markdown",
      "metadata": {
        "id": "xZknLeXKF_0h"
      },
      "source": [
        "Из обратившихся в клинику больних и \"здоровых\" поровну, количество субъектов двух классов сравнимо и почти одинаково, для обучения моделей это хорошо. "
      ]
    },
    {
      "cell_type": "code",
      "execution_count": 6,
      "metadata": {
        "_uuid": "aca4074785c40bcf036a59c14c78e3a503904724",
        "colab": {
          "base_uri": "https://localhost:8080/",
          "height": 279
        },
        "id": "plXDcvdw4-3l",
        "outputId": "d86f738c-8b49-42ac-9a10-7fd23b64c128"
      },
      "outputs": [
        {
          "data": {
            "image/png": "[encoded data removed]",
            "text/plain": [
              "<Figure size 432x288 with 1 Axes>"
            ]
          },
          "metadata": {
            "needs_background": "light"
          },
          "output_type": "display_data"
        }
      ],
      "source": [
        "sns.countplot(x='sex', data=df)\n",
        "plt.xlabel(\"Sex (0 = female, 1 = male)\")\n",
        "plt.show()"
      ]
    },
    {
      "cell_type": "markdown",
      "metadata": {
        "id": "8EUrbjmZR1nS"
      },
      "source": [
        "Заметим, что в клинику чаще обращаются мужчины, поэтому все следующие догадки о данных будут смещены в соответствии с каким-то правилом: может быть женщины реже обращаются в клинику, или образаются только в критических случаях, или меньше подвержены порокам сердца"
      ]
    },
    {
      "cell_type": "code",
      "execution_count": 7,
      "metadata": {
        "_uuid": "e0eed947b5490e93a43515ad6d2a6af9713f16ce",
        "colab": {
          "base_uri": "https://localhost:8080/",
          "height": 358
        },
        "id": "Ghz5x0Wt4-3n",
        "outputId": "34436809-0b10-4ee1-c3cc-a3fc78b5e438"
      },
      "outputs": [
        {
          "data": {
            "image/png": "[encoded data removed]",
            "text/plain": [
              "<Figure size 1440x432 with 1 Axes>"
            ]
          },
          "metadata": {
            "needs_background": "light"
          },
          "output_type": "display_data"
        }
      ],
      "source": [
        "pd.crosstab(df.age, df.exang).plot(kind=\"bar\", figsize=(20, 6))\n",
        "plt.title('Exercise Induced Angina for Ages')\n",
        "plt.xlabel('Age')\n",
        "plt.ylabel('Frequency')\n",
        "plt.legend([\"Woman\", \"Man\"])\n",
        "plt.show()"
      ]
    },
    {
      "cell_type": "markdown",
      "metadata": {
        "id": "Zg09a9vCJhIE"
      },
      "source": [
        "Оказывается, у лбдей постарше физические упражнения могут быть причиной ангины(воспаления миндалин). По графу видно, что чаще почти по всем возрастам она наблюдается у женщин"
      ]
    },
    {
      "cell_type": "code",
      "execution_count": 8,
      "metadata": {
        "_uuid": "1cb0e9e4ec00ca7caa2e77a03dd0289e1c549708",
        "colab": {
          "base_uri": "https://localhost:8080/",
          "height": 404
        },
        "id": "PxB4iYFc4-3n",
        "outputId": "884dd5e7-b584-477d-cf5f-7895b00aa58c"
      },
      "outputs": [
        {
          "data": {
            "image/png": "[encoded data removed]",
            "text/plain": [
              "<Figure size 1080x432 with 1 Axes>"
            ]
          },
          "metadata": {
            "needs_background": "light"
          },
          "output_type": "display_data"
        }
      ],
      "source": [
        "pd.crosstab(df.sex,df.target).plot(kind=\"bar\", figsize=(15, 6), color=['#1CA53B', '#AA1111' ])\n",
        "plt.title('Heart Disease Frequency for Sex')\n",
        "plt.xlabel('Sex (0 = Female, 1 = Male)')\n",
        "plt.xticks(rotation=0)\n",
        "plt.legend([\"Don't have Disease\", \"Ill\"])\n",
        "plt.ylabel('Frequency')\n",
        "plt.show()"
      ]
    },
    {
      "cell_type": "code",
      "execution_count": 9,
      "metadata": {
        "colab": {
          "base_uri": "https://localhost:8080/",
          "height": 384
        },
        "id": "JWiHYld_MOjo",
        "outputId": "e2cc09cc-426e-433a-dd78-60ea2565301c"
      },
      "outputs": [
        {
          "data": {
            "image/png": "[encoded data removed]",
            "text/plain": [
              "<Figure size 1080x432 with 1 Axes>"
            ]
          },
          "metadata": {
            "needs_background": "light"
          },
          "output_type": "display_data"
        }
      ],
      "source": [
        "pd.crosstab(df.thal,df.target).plot(kind=\"bar\", figsize=(15, 6), color=['#1CA53B', '#AA1111'])\n",
        "plt.legend([\"Healthy\", \"Ill\"])\n",
        "plt.xlabel(\"Defect Stage\")\n",
        "plt.ylabel(\"People\")\n",
        "plt.show()"
      ]
    },
    {
      "cell_type": "markdown",
      "metadata": {
        "id": "j_svEbSENeD6"
      },
      "source": [
        "thal - 3 = normal; 6 = fixed defect; 7 = reversable defect  \n",
        "Видно, что есть 4 категории \"дефектности\" сердца, при этом чем выше дефектность, тем больше вероятность, что человек больной. При этом видно, что в клинику обратилось большое количество людей с дефектом третьей ступени, при этом порока сердца у них нет, видимо, это как-то влияет на самочувствие или врачи по предварительному скану сердца рекомендуют обследоваться на пороки сердца. Видно, что люди с зафиксированным дефектом чаще остальных подвержены порокам сердца\n"
      ]
    },
    {
      "cell_type": "code",
      "execution_count": 10,
      "metadata": {
        "_uuid": "730062aa471d6774f0b761ad2cb6a7043d339615",
        "colab": {
          "base_uri": "https://localhost:8080/",
          "height": 404
        },
        "id": "YZaDxHXy4-3n",
        "outputId": "aa1874b3-6d94-43da-e535-2ece1a8dde4f"
      },
      "outputs": [
        {
          "data": {
            "image/png": "[encoded data removed]",
            "text/plain": [
              "<Figure size 1080x432 with 1 Axes>"
            ]
          },
          "metadata": {
            "needs_background": "light"
          },
          "output_type": "display_data"
        }
      ],
      "source": [
        "pd.crosstab(df.slope,df.target).plot(kind=\"bar\", figsize=(15, 6), color=['#1CA53B', '#AA1111'])\n",
        "plt.legend([\"Healthy\", \"Ill\"])\n",
        "plt.title('Heart Disease Frequency for Slope')\n",
        "plt.xlabel('The Slope of The Peak Exercise ST Segment ')\n",
        "plt.xticks(rotation = 0)\n",
        "plt.ylabel('Frequency')\n",
        "plt.show()"
      ]
    },
    {
      "cell_type": "markdown",
      "metadata": {
        "id": "OsB7KOk8SjOj"
      },
      "source": [
        "По этим данным видно, что \"наклон пикового сегмента\" влияет на вероятность быть пораженым пороком сердца, есть множество \"здоровых\" людей, обратившихся в клинику и не имеющих порока, ситуация схожа с прошлым графиком"
      ]
    },
    {
      "cell_type": "markdown",
      "metadata": {
        "_uuid": "e2a8abf83186e8ddff507765dcea4e575e677624",
        "id": "MHrk9ZE84-3p"
      },
      "source": [
        "### Преобразование категориальных признаков"
      ]
    },
    {
      "cell_type": "markdown",
      "metadata": {
        "_uuid": "5d3461c57453ac62a71185997d716b755d00fa33",
        "id": "uN52jhYH4-3p"
      },
      "source": [
        "Закодируем категориальные признаки **cp**, **thal** и **slope**."
      ]
    },
    {
      "cell_type": "code",
      "execution_count": 12,
      "metadata": {
        "_uuid": "c2fb6259a757a62926b86aa0eea6f663a8ec094f",
        "colab": {
          "base_uri": "https://localhost:8080/",
          "height": 297
        },
        "id": "QmWYSEvu4-3p",
        "outputId": "58514e18-0608-4dfb-8a4d-981d7ed51914"
      },
      "outputs": [
        {
          "data": {
            "text/html": [
              "\n",
              "  <div id=\"df-08ed094f-0145-4fa7-bcb3-fb3a0159229b\">\n",
              "    <div class=\"colab-df-container\">\n",
              "      <div>\n",
              "<style scoped>\n",
              "    .dataframe tbody tr th:only-of-type {\n",
              "        vertical-align: middle;\n",
              "    }\n",
              "\n",
              "    .dataframe tbody tr th {\n",
              "        vertical-align: top;\n",
              "    }\n",
              "\n",
              "    .dataframe thead th {\n",
              "        text-align: right;\n",
              "    }\n",
              "</style>\n",
              "<table border=\"1\" class=\"dataframe\">\n",
              "  <thead>\n",
              "    <tr style=\"text-align: right;\">\n",
              "      <th></th>\n",
              "      <th>age</th>\n",
              "      <th>sex</th>\n",
              "      <th>cp</th>\n",
              "      <th>trestbps</th>\n",
              "      <th>chol</th>\n",
              "      <th>fbs</th>\n",
              "      <th>restecg</th>\n",
              "      <th>thalach</th>\n",
              "      <th>exang</th>\n",
              "      <th>oldpeak</th>\n",
              "      <th>...</th>\n",
              "      <th>cp_1</th>\n",
              "      <th>cp_2</th>\n",
              "      <th>cp_3</th>\n",
              "      <th>thal_0</th>\n",
              "      <th>thal_1</th>\n",
              "      <th>thal_2</th>\n",
              "      <th>thal_3</th>\n",
              "      <th>slope_0</th>\n",
              "      <th>slope_1</th>\n",
              "      <th>slope_2</th>\n",
              "    </tr>\n",
              "  </thead>\n",
              "  <tbody>\n",
              "    <tr>\n",
              "      <th>0</th>\n",
              "      <td>52</td>\n",
              "      <td>1</td>\n",
              "      <td>0</td>\n",
              "      <td>125</td>\n",
              "      <td>212</td>\n",
              "      <td>0</td>\n",
              "      <td>1</td>\n",
              "      <td>168</td>\n",
              "      <td>0</td>\n",
              "      <td>1.0</td>\n",
              "      <td>...</td>\n",
              "      <td>0</td>\n",
              "      <td>0</td>\n",
              "      <td>0</td>\n",
              "      <td>0</td>\n",
              "      <td>0</td>\n",
              "      <td>0</td>\n",
              "      <td>1</td>\n",
              "      <td>0</td>\n",
              "      <td>0</td>\n",
              "      <td>1</td>\n",
              "    </tr>\n",
              "    <tr>\n",
              "      <th>1</th>\n",
              "      <td>53</td>\n",
              "      <td>1</td>\n",
              "      <td>0</td>\n",
              "      <td>140</td>\n",
              "      <td>203</td>\n",
              "      <td>1</td>\n",
              "      <td>0</td>\n",
              "      <td>155</td>\n",
              "      <td>1</td>\n",
              "      <td>3.1</td>\n",
              "      <td>...</td>\n",
              "      <td>0</td>\n",
              "      <td>0</td>\n",
              "      <td>0</td>\n",
              "      <td>0</td>\n",
              "      <td>0</td>\n",
              "      <td>0</td>\n",
              "      <td>1</td>\n",
              "      <td>1</td>\n",
              "      <td>0</td>\n",
              "      <td>0</td>\n",
              "    </tr>\n",
              "    <tr>\n",
              "      <th>2</th>\n",
              "      <td>70</td>\n",
              "      <td>1</td>\n",
              "      <td>0</td>\n",
              "      <td>145</td>\n",
              "      <td>174</td>\n",
              "      <td>0</td>\n",
              "      <td>1</td>\n",
              "      <td>125</td>\n",
              "      <td>1</td>\n",
              "      <td>2.6</td>\n",
              "      <td>...</td>\n",
              "      <td>0</td>\n",
              "      <td>0</td>\n",
              "      <td>0</td>\n",
              "      <td>0</td>\n",
              "      <td>0</td>\n",
              "      <td>0</td>\n",
              "      <td>1</td>\n",
              "      <td>1</td>\n",
              "      <td>0</td>\n",
              "      <td>0</td>\n",
              "    </tr>\n",
              "    <tr>\n",
              "      <th>3</th>\n",
              "      <td>61</td>\n",
              "      <td>1</td>\n",
              "      <td>0</td>\n",
              "      <td>148</td>\n",
              "      <td>203</td>\n",
              "      <td>0</td>\n",
              "      <td>1</td>\n",
              "      <td>161</td>\n",
              "      <td>0</td>\n",
              "      <td>0.0</td>\n",
              "      <td>...</td>\n",
              "      <td>0</td>\n",
              "      <td>0</td>\n",
              "      <td>0</td>\n",
              "      <td>0</td>\n",
              "      <td>0</td>\n",
              "      <td>0</td>\n",
              "      <td>1</td>\n",
              "      <td>0</td>\n",
              "      <td>0</td>\n",
              "      <td>1</td>\n",
              "    </tr>\n",
              "    <tr>\n",
              "      <th>4</th>\n",
              "      <td>62</td>\n",
              "      <td>0</td>\n",
              "      <td>0</td>\n",
              "      <td>138</td>\n",
              "      <td>294</td>\n",
              "      <td>1</td>\n",
              "      <td>1</td>\n",
              "      <td>106</td>\n",
              "      <td>0</td>\n",
              "      <td>1.9</td>\n",
              "      <td>...</td>\n",
              "      <td>0</td>\n",
              "      <td>0</td>\n",
              "      <td>0</td>\n",
              "      <td>0</td>\n",
              "      <td>0</td>\n",
              "      <td>1</td>\n",
              "      <td>0</td>\n",
              "      <td>0</td>\n",
              "      <td>1</td>\n",
              "      <td>0</td>\n",
              "    </tr>\n",
              "  </tbody>\n",
              "</table>\n",
              "<p>5 rows × 25 columns</p>\n",
              "</div>\n",
              "      <button class=\"colab-df-convert\" onclick=\"convertToInteractive('df-08ed094f-0145-4fa7-bcb3-fb3a0159229b')\"\n",
              "              title=\"Convert this dataframe to an interactive table.\"\n",
              "              style=\"display:none;\">\n",
              "        \n",
              "  <svg xmlns=\"http://www.w3.org/2000/svg\" height=\"24px\"viewBox=\"0 0 24 24\"\n",
              "       width=\"24px\">\n",
              "    <path d=\"M0 0h24v24H0V0z\" fill=\"none\"/>\n",
              "    <path d=\"M18.56 5.44l.94 2.06.94-2.06 2.06-.94-2.06-.94-.94-2.06-.94 2.06-2.06.94zm-11 1L8.5 8.5l.94-2.06 2.06-.94-2.06-.94L8.5 2.5l-.94 2.06-2.06.94zm10 10l.94 2.06.94-2.06 2.06-.94-2.06-.94-.94-2.06-.94 2.06-2.06.94z\"/><path d=\"M17.41 7.96l-1.37-1.37c-.4-.4-.92-.59-1.43-.59-.52 0-1.04.2-1.43.59L10.3 9.45l-7.72 7.72c-.78.78-.78 2.05 0 2.83L4 21.41c.39.39.9.59 1.41.59.51 0 1.02-.2 1.41-.59l7.78-7.78 2.81-2.81c.8-.78.8-2.07 0-2.86zM5.41 20L4 18.59l7.72-7.72 1.47 1.35L5.41 20z\"/>\n",
              "  </svg>\n",
              "      </button>\n",
              "      \n",
              "  <style>\n",
              "    .colab-df-container {\n",
              "      display:flex;\n",
              "      flex-wrap:wrap;\n",
              "      gap: 12px;\n",
              "    }\n",
              "\n",
              "    .colab-df-convert {\n",
              "      background-color: #E8F0FE;\n",
              "      border: none;\n",
              "      border-radius: 50%;\n",
              "      cursor: pointer;\n",
              "      display: none;\n",
              "      fill: #1967D2;\n",
              "      height: 32px;\n",
              "      padding: 0 0 0 0;\n",
              "      width: 32px;\n",
              "    }\n",
              "\n",
              "    .colab-df-convert:hover {\n",
              "      background-color: #E2EBFA;\n",
              "      box-shadow: 0px 1px 2px rgba(60, 64, 67, 0.3), 0px 1px 3px 1px rgba(60, 64, 67, 0.15);\n",
              "      fill: #174EA6;\n",
              "    }\n",
              "\n",
              "    [theme=dark] .colab-df-convert {\n",
              "      background-color: #3B4455;\n",
              "      fill: #D2E3FC;\n",
              "    }\n",
              "\n",
              "    [theme=dark] .colab-df-convert:hover {\n",
              "      background-color: #434B5C;\n",
              "      box-shadow: 0px 1px 3px 1px rgba(0, 0, 0, 0.15);\n",
              "      filter: drop-shadow(0px 1px 2px rgba(0, 0, 0, 0.3));\n",
              "      fill: #FFFFFF;\n",
              "    }\n",
              "  </style>\n",
              "\n",
              "      <script>\n",
              "        const buttonEl =\n",
              "          document.querySelector('#df-08ed094f-0145-4fa7-bcb3-fb3a0159229b button.colab-df-convert');\n",
              "        buttonEl.style.display =\n",
              "          google.colab.kernel.accessAllowed ? 'block' : 'none';\n",
              "\n",
              "        async function convertToInteractive(key) {\n",
              "          const element = document.querySelector('#df-08ed094f-0145-4fa7-bcb3-fb3a0159229b');\n",
              "          const dataTable =\n",
              "            await google.colab.kernel.invokeFunction('convertToInteractive',\n",
              "                                                     [key], {});\n",
              "          if (!dataTable) return;\n",
              "\n",
              "          const docLinkHtml = 'Like what you see? Visit the ' +\n",
              "            '<a target=\"_blank\" href=https://colab.research.google.com/notebooks/data_table.ipynb>data table notebook</a>'\n",
              "            + ' to learn more about interactive tables.';\n",
              "          element.innerHTML = '';\n",
              "          dataTable['output_type'] = 'display_data';\n",
              "          await google.colab.output.renderOutput(dataTable, element);\n",
              "          const docLink = document.createElement('div');\n",
              "          docLink.innerHTML = docLinkHtml;\n",
              "          element.appendChild(docLink);\n",
              "        }\n",
              "      </script>\n",
              "    </div>\n",
              "  </div>\n",
              "  "
            ],
            "text/plain": [
              "   age  sex  cp  trestbps  chol  fbs  restecg  thalach  exang  oldpeak  ...  \\\n",
              "0   52    1   0       125   212    0        1      168      0      1.0  ...   \n",
              "1   53    1   0       140   203    1        0      155      1      3.1  ...   \n",
              "2   70    1   0       145   174    0        1      125      1      2.6  ...   \n",
              "3   61    1   0       148   203    0        1      161      0      0.0  ...   \n",
              "4   62    0   0       138   294    1        1      106      0      1.9  ...   \n",
              "\n",
              "   cp_1  cp_2  cp_3  thal_0  thal_1  thal_2  thal_3  slope_0  slope_1  slope_2  \n",
              "0     0     0     0       0       0       0       1        0        0        1  \n",
              "1     0     0     0       0       0       0       1        1        0        0  \n",
              "2     0     0     0       0       0       0       1        1        0        0  \n",
              "3     0     0     0       0       0       0       1        0        0        1  \n",
              "4     0     0     0       0       0       1       0        0        1        0  \n",
              "\n",
              "[5 rows x 25 columns]"
            ]
          },
          "execution_count": 12,
          "metadata": {},
          "output_type": "execute_result"
        }
      ],
      "source": [
        "cp_dum = pd.get_dummies(df['cp'], prefix = \"cp\")\n",
        "thal_dum = pd.get_dummies(df['thal'], prefix = \"thal\")\n",
        "slope_dum = pd.get_dummies(df['slope'], prefix = \"slope\")\n",
        "\n",
        "frames = [df, cp_dum, thal_dum, slope_dum]\n",
        "df = pd.concat(frames, axis = 1)\n",
        "cp_dum, thal_dum, slope_dum, frames = None, None, None, None\n",
        "df.head()"
      ]
    },
    {
      "cell_type": "code",
      "execution_count": 13,
      "metadata": {
        "_uuid": "01011d45333bde3d9f95e3db93ae4517c72a741f",
        "colab": {
          "base_uri": "https://localhost:8080/",
          "height": 297
        },
        "id": "0lrGv-Oj4-3p",
        "outputId": "0826d3e2-a115-4bfe-e4c2-490c604e114b"
      },
      "outputs": [
        {
          "data": {
            "text/html": [
              "\n",
              "  <div id=\"df-88835895-0f6b-46b3-842f-51aa4f512e58\">\n",
              "    <div class=\"colab-df-container\">\n",
              "      <div>\n",
              "<style scoped>\n",
              "    .dataframe tbody tr th:only-of-type {\n",
              "        vertical-align: middle;\n",
              "    }\n",
              "\n",
              "    .dataframe tbody tr th {\n",
              "        vertical-align: top;\n",
              "    }\n",
              "\n",
              "    .dataframe thead th {\n",
              "        text-align: right;\n",
              "    }\n",
              "</style>\n",
              "<table border=\"1\" class=\"dataframe\">\n",
              "  <thead>\n",
              "    <tr style=\"text-align: right;\">\n",
              "      <th></th>\n",
              "      <th>age</th>\n",
              "      <th>sex</th>\n",
              "      <th>trestbps</th>\n",
              "      <th>chol</th>\n",
              "      <th>fbs</th>\n",
              "      <th>restecg</th>\n",
              "      <th>thalach</th>\n",
              "      <th>exang</th>\n",
              "      <th>oldpeak</th>\n",
              "      <th>ca</th>\n",
              "      <th>...</th>\n",
              "      <th>cp_1</th>\n",
              "      <th>cp_2</th>\n",
              "      <th>cp_3</th>\n",
              "      <th>thal_0</th>\n",
              "      <th>thal_1</th>\n",
              "      <th>thal_2</th>\n",
              "      <th>thal_3</th>\n",
              "      <th>slope_0</th>\n",
              "      <th>slope_1</th>\n",
              "      <th>slope_2</th>\n",
              "    </tr>\n",
              "  </thead>\n",
              "  <tbody>\n",
              "    <tr>\n",
              "      <th>0</th>\n",
              "      <td>52</td>\n",
              "      <td>1</td>\n",
              "      <td>125</td>\n",
              "      <td>212</td>\n",
              "      <td>0</td>\n",
              "      <td>1</td>\n",
              "      <td>168</td>\n",
              "      <td>0</td>\n",
              "      <td>1.0</td>\n",
              "      <td>2</td>\n",
              "      <td>...</td>\n",
              "      <td>0</td>\n",
              "      <td>0</td>\n",
              "      <td>0</td>\n",
              "      <td>0</td>\n",
              "      <td>0</td>\n",
              "      <td>0</td>\n",
              "      <td>1</td>\n",
              "      <td>0</td>\n",
              "      <td>0</td>\n",
              "      <td>1</td>\n",
              "    </tr>\n",
              "    <tr>\n",
              "      <th>1</th>\n",
              "      <td>53</td>\n",
              "      <td>1</td>\n",
              "      <td>140</td>\n",
              "      <td>203</td>\n",
              "      <td>1</td>\n",
              "      <td>0</td>\n",
              "      <td>155</td>\n",
              "      <td>1</td>\n",
              "      <td>3.1</td>\n",
              "      <td>0</td>\n",
              "      <td>...</td>\n",
              "      <td>0</td>\n",
              "      <td>0</td>\n",
              "      <td>0</td>\n",
              "      <td>0</td>\n",
              "      <td>0</td>\n",
              "      <td>0</td>\n",
              "      <td>1</td>\n",
              "      <td>1</td>\n",
              "      <td>0</td>\n",
              "      <td>0</td>\n",
              "    </tr>\n",
              "    <tr>\n",
              "      <th>2</th>\n",
              "      <td>70</td>\n",
              "      <td>1</td>\n",
              "      <td>145</td>\n",
              "      <td>174</td>\n",
              "      <td>0</td>\n",
              "      <td>1</td>\n",
              "      <td>125</td>\n",
              "      <td>1</td>\n",
              "      <td>2.6</td>\n",
              "      <td>0</td>\n",
              "      <td>...</td>\n",
              "      <td>0</td>\n",
              "      <td>0</td>\n",
              "      <td>0</td>\n",
              "      <td>0</td>\n",
              "      <td>0</td>\n",
              "      <td>0</td>\n",
              "      <td>1</td>\n",
              "      <td>1</td>\n",
              "      <td>0</td>\n",
              "      <td>0</td>\n",
              "    </tr>\n",
              "    <tr>\n",
              "      <th>3</th>\n",
              "      <td>61</td>\n",
              "      <td>1</td>\n",
              "      <td>148</td>\n",
              "      <td>203</td>\n",
              "      <td>0</td>\n",
              "      <td>1</td>\n",
              "      <td>161</td>\n",
              "      <td>0</td>\n",
              "      <td>0.0</td>\n",
              "      <td>1</td>\n",
              "      <td>...</td>\n",
              "      <td>0</td>\n",
              "      <td>0</td>\n",
              "      <td>0</td>\n",
              "      <td>0</td>\n",
              "      <td>0</td>\n",
              "      <td>0</td>\n",
              "      <td>1</td>\n",
              "      <td>0</td>\n",
              "      <td>0</td>\n",
              "      <td>1</td>\n",
              "    </tr>\n",
              "    <tr>\n",
              "      <th>4</th>\n",
              "      <td>62</td>\n",
              "      <td>0</td>\n",
              "      <td>138</td>\n",
              "      <td>294</td>\n",
              "      <td>1</td>\n",
              "      <td>1</td>\n",
              "      <td>106</td>\n",
              "      <td>0</td>\n",
              "      <td>1.9</td>\n",
              "      <td>3</td>\n",
              "      <td>...</td>\n",
              "      <td>0</td>\n",
              "      <td>0</td>\n",
              "      <td>0</td>\n",
              "      <td>0</td>\n",
              "      <td>0</td>\n",
              "      <td>1</td>\n",
              "      <td>0</td>\n",
              "      <td>0</td>\n",
              "      <td>1</td>\n",
              "      <td>0</td>\n",
              "    </tr>\n",
              "  </tbody>\n",
              "</table>\n",
              "<p>5 rows × 22 columns</p>\n",
              "</div>\n",
              "      <button class=\"colab-df-convert\" onclick=\"convertToInteractive('df-88835895-0f6b-46b3-842f-51aa4f512e58')\"\n",
              "              title=\"Convert this dataframe to an interactive table.\"\n",
              "              style=\"display:none;\">\n",
              "        \n",
              "  <svg xmlns=\"http://www.w3.org/2000/svg\" height=\"24px\"viewBox=\"0 0 24 24\"\n",
              "       width=\"24px\">\n",
              "    <path d=\"M0 0h24v24H0V0z\" fill=\"none\"/>\n",
              "    <path d=\"M18.56 5.44l.94 2.06.94-2.06 2.06-.94-2.06-.94-.94-2.06-.94 2.06-2.06.94zm-11 1L8.5 8.5l.94-2.06 2.06-.94-2.06-.94L8.5 2.5l-.94 2.06-2.06.94zm10 10l.94 2.06.94-2.06 2.06-.94-2.06-.94-.94-2.06-.94 2.06-2.06.94z\"/><path d=\"M17.41 7.96l-1.37-1.37c-.4-.4-.92-.59-1.43-.59-.52 0-1.04.2-1.43.59L10.3 9.45l-7.72 7.72c-.78.78-.78 2.05 0 2.83L4 21.41c.39.39.9.59 1.41.59.51 0 1.02-.2 1.41-.59l7.78-7.78 2.81-2.81c.8-.78.8-2.07 0-2.86zM5.41 20L4 18.59l7.72-7.72 1.47 1.35L5.41 20z\"/>\n",
              "  </svg>\n",
              "      </button>\n",
              "      \n",
              "  <style>\n",
              "    .colab-df-container {\n",
              "      display:flex;\n",
              "      flex-wrap:wrap;\n",
              "      gap: 12px;\n",
              "    }\n",
              "\n",
              "    .colab-df-convert {\n",
              "      background-color: #E8F0FE;\n",
              "      border: none;\n",
              "      border-radius: 50%;\n",
              "      cursor: pointer;\n",
              "      display: none;\n",
              "      fill: #1967D2;\n",
              "      height: 32px;\n",
              "      padding: 0 0 0 0;\n",
              "      width: 32px;\n",
              "    }\n",
              "\n",
              "    .colab-df-convert:hover {\n",
              "      background-color: #E2EBFA;\n",
              "      box-shadow: 0px 1px 2px rgba(60, 64, 67, 0.3), 0px 1px 3px 1px rgba(60, 64, 67, 0.15);\n",
              "      fill: #174EA6;\n",
              "    }\n",
              "\n",
              "    [theme=dark] .colab-df-convert {\n",
              "      background-color: #3B4455;\n",
              "      fill: #D2E3FC;\n",
              "    }\n",
              "\n",
              "    [theme=dark] .colab-df-convert:hover {\n",
              "      background-color: #434B5C;\n",
              "      box-shadow: 0px 1px 3px 1px rgba(0, 0, 0, 0.15);\n",
              "      filter: drop-shadow(0px 1px 2px rgba(0, 0, 0, 0.3));\n",
              "      fill: #FFFFFF;\n",
              "    }\n",
              "  </style>\n",
              "\n",
              "      <script>\n",
              "        const buttonEl =\n",
              "          document.querySelector('#df-88835895-0f6b-46b3-842f-51aa4f512e58 button.colab-df-convert');\n",
              "        buttonEl.style.display =\n",
              "          google.colab.kernel.accessAllowed ? 'block' : 'none';\n",
              "\n",
              "        async function convertToInteractive(key) {\n",
              "          const element = document.querySelector('#df-88835895-0f6b-46b3-842f-51aa4f512e58');\n",
              "          const dataTable =\n",
              "            await google.colab.kernel.invokeFunction('convertToInteractive',\n",
              "                                                     [key], {});\n",
              "          if (!dataTable) return;\n",
              "\n",
              "          const docLinkHtml = 'Like what you see? Visit the ' +\n",
              "            '<a target=\"_blank\" href=https://colab.research.google.com/notebooks/data_table.ipynb>data table notebook</a>'\n",
              "            + ' to learn more about interactive tables.';\n",
              "          element.innerHTML = '';\n",
              "          dataTable['output_type'] = 'display_data';\n",
              "          await google.colab.output.renderOutput(dataTable, element);\n",
              "          const docLink = document.createElement('div');\n",
              "          docLink.innerHTML = docLinkHtml;\n",
              "          element.appendChild(docLink);\n",
              "        }\n",
              "      </script>\n",
              "    </div>\n",
              "  </div>\n",
              "  "
            ],
            "text/plain": [
              "   age  sex  trestbps  chol  fbs  restecg  thalach  exang  oldpeak  ca  ...  \\\n",
              "0   52    1       125   212    0        1      168      0      1.0   2  ...   \n",
              "1   53    1       140   203    1        0      155      1      3.1   0  ...   \n",
              "2   70    1       145   174    0        1      125      1      2.6   0  ...   \n",
              "3   61    1       148   203    0        1      161      0      0.0   1  ...   \n",
              "4   62    0       138   294    1        1      106      0      1.9   3  ...   \n",
              "\n",
              "   cp_1  cp_2  cp_3  thal_0  thal_1  thal_2  thal_3  slope_0  slope_1  slope_2  \n",
              "0     0     0     0       0       0       0       1        0        0        1  \n",
              "1     0     0     0       0       0       0       1        1        0        0  \n",
              "2     0     0     0       0       0       0       1        1        0        0  \n",
              "3     0     0     0       0       0       0       1        0        0        1  \n",
              "4     0     0     0       0       0       1       0        0        1        0  \n",
              "\n",
              "[5 rows x 22 columns]"
            ]
          },
          "execution_count": 13,
          "metadata": {},
          "output_type": "execute_result"
        }
      ],
      "source": [
        "df = df.drop(columns = ['cp', 'thal', 'slope'])\n",
        "df.head()"
      ]
    },
    {
      "cell_type": "markdown",
      "metadata": {
        "id": "g6MKS7dr4-3q"
      },
      "source": [
        "## Разбиение данных с использованием train_test_split и масштабирование"
      ]
    },
    {
      "cell_type": "code",
      "execution_count": 14,
      "metadata": {
        "_uuid": "3090d1ba1e8776706d23a1175db6d1451908a954",
        "id": "Vt5_TIGC4-3q"
      },
      "outputs": [],
      "source": [
        "from sklearn.preprocessing import StandardScaler\n",
        "from sklearn.model_selection import train_test_split\n",
        "\n",
        "y = df['target']\n",
        "X = df.drop(columns=['target'])\n",
        "\n",
        "X_train, X_test, y_train, y_test = train_test_split(X, y, test_size = 0.3, random_state=42)\n",
        "\n",
        "scaler = StandardScaler()  # воспользуемся стандартным трансформером\n",
        "\n",
        "# масштабируем обучающую выборку и запоминаем среднее, стандартное отклонение признаков\n",
        "X_train_scaled = scaler.fit_transform(X_train)\n",
        "\n",
        "# масштабируем тестовую выборку используя статистики обучающей выборки\n",
        "X_test_scaled = scaler.transform(X_test)\n",
        "\n",
        "accuracies = {}"
      ]
    },
    {
      "cell_type": "markdown",
      "metadata": {
        "_uuid": "b0a524cdd6eb069d02aab429a1cf2024ab54cf18",
        "id": "fLWZXd5J4-3q"
      },
      "source": [
        "### K-Nearest Neighbour"
      ]
    },
    {
      "cell_type": "code",
      "execution_count": 15,
      "metadata": {
        "id": "OA7OGTu9DATW"
      },
      "outputs": [],
      "source": [
        "from knn import KNN\n",
        "from sklearn.model_selection import GridSearchCV\n",
        "\n",
        "\n",
        "k_grid = list(range(1, 7))\n",
        "p_minkoswki_grid = list(range(1, 7))\n",
        "\n",
        "knn_searcher = GridSearchCV(\n",
        "    estimator=KNN(),\n",
        "    param_grid=[{\"k\": k_grid, \"p_minkoswki\": p_minkoswki_grid}],\n",
        "    cv=5\n",
        ")\n",
        "knn_tuned = {'k': 1, 'p_minkoswki': 2}\n",
        "if knn_tuned == None:\n",
        "  knn_searcher.fit(X_train_scaled, y_train)\n",
        "  print(knn_searcher.best_params_) # {'k': 1, 'p_minkoswki': 2}\n"
      ]
    },
    {
      "cell_type": "code",
      "execution_count": 16,
      "metadata": {
        "colab": {
          "base_uri": "https://localhost:8080/"
        },
        "id": "wJS4ACgIeWHJ",
        "outputId": "cb318b8f-89cf-4cb8-b376-d7c02ea11de3"
      },
      "outputs": [
        {
          "name": "stdout",
          "output_type": "stream",
          "text": [
            "KNN Test Accuracy 0.9707792207792207\n"
          ]
        }
      ],
      "source": [
        "knn = KNN(k=1, p_minkowski=2)\n",
        "knn.fit(X_train_scaled, y_train)\n",
        "\n",
        "knn_accuracy = knn.score(X_test_scaled, y_test)\n",
        "accuracies[\"KNN\"] = knn_accuracy\n",
        "print(f\"KNN Test Accuracy {knn_accuracy}\")"
      ]
    },
    {
      "cell_type": "markdown",
      "metadata": {
        "id": "Mu0SNzIX27JN"
      },
      "source": [
        "built-in:"
      ]
    },
    {
      "cell_type": "code",
      "execution_count": 17,
      "metadata": {
        "id": "NpyozMy128nf"
      },
      "outputs": [],
      "source": [
        "from sklearn.neighbors import KNeighborsClassifier\n",
        "from sklearn.model_selection import GridSearchCV\n",
        "\n",
        "\n",
        "leaf_size_grid = list(range(1,50))\n",
        "n_neighbors_grid = list(range(1,30))\n",
        "p_grid=[1,2]\n",
        "\n",
        "builtin_knn_searcher = GridSearchCV(\n",
        "    estimator=KNeighborsClassifier(),\n",
        "    param_grid=[{\"leaf_size\": leaf_size_grid, \"n_neighbors\": n_neighbors_grid, \"p\": p_grid}],\n",
        "    cv=5\n",
        ")\n",
        "builtin_knn_tuned = {'leaf_size': 1, 'n_neighbors': 1, 'p': 1}\n",
        "if builtin_knn_tuned == None:\n",
        "  builtin_knn_searcher.fit(X_train_scaled, y_train)\n",
        "  print(builtin_knn_searcher.best_params_) # {'leaf_size': 1, 'n_neighbors': 1, 'p': 1}"
      ]
    },
    {
      "cell_type": "code",
      "execution_count": 18,
      "metadata": {
        "colab": {
          "base_uri": "https://localhost:8080/"
        },
        "id": "l4zkICcB3zaR",
        "outputId": "0bd6c5ce-4e25-43d0-ddb3-1e4a5d633c0d"
      },
      "outputs": [
        {
          "name": "stdout",
          "output_type": "stream",
          "text": [
            "Built-in KNN Test Accuracy 0.9805194805194806\n"
          ]
        }
      ],
      "source": [
        "builtin_knn = KNeighborsClassifier(leaf_size=1, n_neighbors=1, p=1)\n",
        "builtin_knn.fit(X_train_scaled, y_train)\n",
        "\n",
        "builtin_knn_accuracy = builtin_knn.score(X_test_scaled, y_test)\n",
        "accuracies[\"Built-in KNN\"] = builtin_knn_accuracy\n",
        "print(f\"Built-in KNN Test Accuracy {builtin_knn_accuracy}\")"
      ]
    },
    {
      "cell_type": "markdown",
      "metadata": {
        "_uuid": "998124b79b0c01da04cf9992112eafb60bdb857a",
        "id": "Y8sXtIqs4-3s"
      },
      "source": [
        "## Decision Tree"
      ]
    },
    {
      "cell_type": "code",
      "execution_count": 19,
      "metadata": {
        "_uuid": "a3f57a094e75c7072857cb8adb40afa3fead5a26",
        "id": "p2Hl4yia4-3t"
      },
      "outputs": [],
      "source": [
        "from sklearn.model_selection import GridSearchCV\n",
        "from decision_tree import DTC\n",
        "\n",
        "\n",
        "max_depth_grid = list(range(3, 40))\n",
        "min_samples_split_grid = [5, 10, 20, 50, 100]\n",
        "\n",
        "dtc_searcher = GridSearchCV(\n",
        "    estimator=DTC(),\n",
        "    param_grid=[{\"max_depth\": max_depth_grid, \"min_samples_split\": min_samples_split_grid}],\n",
        "    cv=5\n",
        ")\n",
        "dtc_tuned = {'max_depth': 11, 'min_samples_split': 5}\n",
        "if dtc_tuned == None:\n",
        "  dtc_searcher.fit(X_train, y_train)\n",
        "  print(dtc_searcher.best_params_) # {'max_depth': 11, 'min_samples_split': 1}\n"
      ]
    },
    {
      "cell_type": "code",
      "execution_count": 20,
      "metadata": {
        "colab": {
          "base_uri": "https://localhost:8080/"
        },
        "id": "u2Wf_quEfRQC",
        "outputId": "a908697f-fecd-4ed3-b38a-fee206a3521e"
      },
      "outputs": [
        {
          "name": "stdout",
          "output_type": "stream",
          "text": [
            "Decision Tree Test Accuracy 0.9642857142857143\n"
          ]
        }
      ],
      "source": [
        "dtc = DTC(11, 5)\n",
        "dtc.fit(X_train, y_train)\n",
        "\n",
        "acc = dtc.score(X_test, y_test)\n",
        "accuracies['Decision Tree'] = acc\n",
        "print(f\"Decision Tree Test Accuracy {acc}\")"
      ]
    },
    {
      "cell_type": "markdown",
      "metadata": {
        "id": "hPR4k6ws3s2J"
      },
      "source": [
        "built-in:"
      ]
    },
    {
      "cell_type": "code",
      "execution_count": 21,
      "metadata": {
        "id": "d0R0vspF4A8I"
      },
      "outputs": [],
      "source": [
        "from sklearn.tree import DecisionTreeClassifier\n",
        "from sklearn.model_selection import GridSearchCV\n",
        "\n",
        "max_depth_grid = list(range(3, 40))\n",
        "min_samples_split_grid = [5, 10, 20, 50, 100]\n",
        "criterion_grid = [\"gini\", \"entropy\"]\n",
        "\n",
        "builtin_dtc_searcher = GridSearchCV(\n",
        "    estimator=DecisionTreeClassifier(),\n",
        "    param_grid=[{\"max_depth\": max_depth_grid, \"min_samples_split\": min_samples_split_grid, \"criterion\": criterion_grid}],\n",
        "    cv=5\n",
        ")\n",
        "builtin_dtc_tuned = {'criterion': 'entropy', 'max_depth': 29, 'min_samples_split': 5}\n",
        "if builtin_dtc_tuned == None:\n",
        "  builtin_dtc_searcher.fit(X_train, y_train)\n",
        "  print(builtin_dtc_searcher.best_params_) # {'criterion': 'entropy', 'max_depth': 29, 'min_samples_split': 5}\n"
      ]
    },
    {
      "cell_type": "code",
      "execution_count": 22,
      "metadata": {
        "colab": {
          "base_uri": "https://localhost:8080/"
        },
        "id": "-yfXcBrs6H_Q",
        "outputId": "5f64f5fa-6025-4d23-a0c6-8b9295dabf05"
      },
      "outputs": [
        {
          "name": "stdout",
          "output_type": "stream",
          "text": [
            "Built-int Decision Tree Test Accuracy 0.974025974025974\n"
          ]
        }
      ],
      "source": [
        "builtin_dtc = sklearn.tree.DecisionTreeClassifier(criterion=\"entropy\", max_depth=29, min_samples_split=5)\n",
        "builtin_dtc.fit(X_train, y_train)\n",
        "\n",
        "acc = builtin_dtc.score(X_test, y_test)\n",
        "accuracies['Built-in Decision Tree'] = acc\n",
        "print(f\"Built-int Decision Tree Test Accuracy {acc}\")"
      ]
    },
    {
      "cell_type": "markdown",
      "metadata": {
        "id": "-Pt_cdekydXZ"
      },
      "source": [
        "### Logistic Regression"
      ]
    },
    {
      "cell_type": "code",
      "execution_count": 23,
      "metadata": {
        "id": "y7DnguKCiGg-"
      },
      "outputs": [],
      "source": [
        "from sklearn.linear_model import LogisticRegression\n",
        "\n",
        "max_depth_grid = list(range(3, 40))\n",
        "min_samples_split_grid = list(range(1, 7))\n",
        "\n",
        "solver_grid = ['newton-cg', 'lbfgs', 'liblinear']\n",
        "penalty_grid = ['none', 'l1', 'l2', 'elasticnet']\n",
        "C_grid = [100, 10, 1.0, 0.1, 0.01]\n",
        "\n",
        "lr_searcher = GridSearchCV(\n",
        "    estimator=LogisticRegression(),\n",
        "    param_grid=[{\"solver\": solver_grid, \"penalty\": penalty_grid, \"C\": C_grid}],\n",
        "    cv=5\n",
        ")\n",
        "lr_tuned = {'C': 100, 'penalty': 'none', 'solver': 'newton-cg'}\n",
        "if lr_tuned == None:\n",
        "  lr_searcher.fit(X_train_scaled, y_train)\n",
        "  print(lr_searcher.best_params_) # {'C': 100, 'penalty': 'none', 'solver': 'newton-cg'}\n"
      ]
    },
    {
      "cell_type": "code",
      "execution_count": 24,
      "metadata": {
        "colab": {
          "base_uri": "https://localhost:8080/"
        },
        "id": "TBMse0xDi6iq",
        "outputId": "9adb93c6-0c9b-44b7-c82f-181cda428e04"
      },
      "outputs": [
        {
          "name": "stdout",
          "output_type": "stream",
          "text": [
            "Logistic Regression Test Accuracy 0.8084415584415584\n"
          ]
        }
      ],
      "source": [
        "lr = LogisticRegression(C=100, penalty=\"none\", solver=\"newton-cg\")\n",
        "lr.fit(X_train_scaled, y_train)\n",
        "\n",
        "acc = lr.score(X_test_scaled, y_test)\n",
        "accuracies['Logistic Regression'] = acc\n",
        "print(f\"Logistic Regression Test Accuracy {acc}\")"
      ]
    },
    {
      "cell_type": "code",
      "execution_count": 25,
      "metadata": {
        "id": "H00eLjsPxL_l"
      },
      "outputs": [],
      "source": [
        "from sklearn.neighbors import KNeighborsClassifier\n",
        "from sklearn.tree import DecisionTreeClassifier"
      ]
    },
    {
      "cell_type": "markdown",
      "metadata": {
        "id": "DmRLg1lNyYvk"
      },
      "source": [
        "### SVC"
      ]
    },
    {
      "cell_type": "code",
      "execution_count": 38,
      "metadata": {
        "id": "77yPKmYOxMtZ"
      },
      "outputs": [],
      "source": [
        "from sklearn.svm import SVC\n",
        "\n",
        "\n",
        "C_grid = [0.1,1, 10, 100]\n",
        "gamma_grid = [1,0.1,0.01,0.001]\n",
        "kernel_grid = ['rbf', 'poly', 'sigmoid']\n",
        "\n",
        "svc_searcher = GridSearchCV(\n",
        "    estimator=SVC(),\n",
        "    param_grid=[{'C': C_grid, 'gamma': gamma_grid, 'kernel': kernel_grid}],\n",
        "    cv=5\n",
        ")\n",
        "svc_tuned = {'C': 0.1, 'gamma': 1, 'kernel': 'poly'}\n",
        "if svc_tuned == None:\n",
        "  svc_searcher.fit(X_train_scaled, y_train)\n",
        "  print(svc_searcher.best_params_) # {'C': 0.1, 'gamma': 1, 'kernel': 'poly'}\n"
      ]
    },
    {
      "cell_type": "code",
      "execution_count": 39,
      "metadata": {
        "colab": {
          "base_uri": "https://localhost:8080/"
        },
        "id": "6j40lH52yA3M",
        "outputId": "9a5b6f5b-b2b1-404d-a117-98d0d9fbdb24"
      },
      "outputs": [
        {
          "name": "stdout",
          "output_type": "stream",
          "text": [
            "SVC Test Accuracy 0.9805194805194806\n"
          ]
        }
      ],
      "source": [
        "svc = SVC(C=0.1, gamma=1, kernel='poly')\n",
        "svc.fit(X_train_scaled, y_train)\n",
        "\n",
        "acc = svc.score(X_test_scaled, y_test)\n",
        "accuracies['SVC'] = acc\n",
        "print(f\"SVC Test Accuracy {acc}\")"
      ]
    },
    {
      "cell_type": "markdown",
      "metadata": {
        "id": "5u0sW9usyspS"
      },
      "source": [
        "### Naive Bayes"
      ]
    },
    {
      "cell_type": "code",
      "execution_count": 28,
      "metadata": {
        "colab": {
          "base_uri": "https://localhost:8080/"
        },
        "id": "gIWxzjd7yuhF",
        "outputId": "38585ca5-c7c9-4942-814f-0535096735ed"
      },
      "outputs": [
        {
          "name": "stdout",
          "output_type": "stream",
          "text": [
            "{'var_smoothing': 0.15199110829529336}\n"
          ]
        }
      ],
      "source": [
        "from sklearn.naive_bayes import GaussianNB\n",
        "\n",
        "bayes_searcher = GridSearchCV(\n",
        "    estimator=GaussianNB(),\n",
        "    param_grid=[{'var_smoothing': np.logspace(0,-9, num=100)}],\n",
        "    cv=5\n",
        ")\n",
        "bayes_tuned = None\n",
        "if bayes_tuned == None:\n",
        "  bayes_searcher.fit(X_train_scaled, y_train)\n",
        "  print(bayes_searcher.best_params_) # \n"
      ]
    },
    {
      "cell_type": "code",
      "execution_count": 29,
      "metadata": {
        "colab": {
          "base_uri": "https://localhost:8080/"
        },
        "id": "1VCbzVgl0lsJ",
        "outputId": "dbbb35cd-35b9-4385-9862-9d5d5f899299"
      },
      "outputs": [
        {
          "name": "stdout",
          "output_type": "stream",
          "text": [
            "Naive Bayes Test Accuracy 0.8181818181818182\n"
          ]
        }
      ],
      "source": [
        "bayes = GaussianNB(var_smoothing=0.15199110829529336)\n",
        "bayes.fit(X_train_scaled, y_train)\n",
        "\n",
        "acc = bayes.score(X_test_scaled, y_test)\n",
        "accuracies['Naive Bayes'] = acc\n",
        "print(f\"Naive Bayes Test Accuracy {acc}\")"
      ]
    },
    {
      "cell_type": "markdown",
      "metadata": {
        "_uuid": "3ba9f36a63105b2557e4314be41dc9620fab27f6",
        "id": "9L23wHLa4-3t"
      },
      "source": [
        "## Comparing Models"
      ]
    },
    {
      "cell_type": "code",
      "execution_count": 35,
      "metadata": {
        "_uuid": "9e594d64f9a20255ca8687179d858e3dce855136",
        "colab": {
          "base_uri": "https://localhost:8080/",
          "height": 334
        },
        "id": "RDJUzPuE4-3t",
        "outputId": "8b6a7a92-f64a-4051-a51f-757376c26bf9"
      },
      "outputs": [
        {
          "data": {
            "image/png": "[encoded data removed]",
            "text/plain": [
              "<Figure size 1152x360 with 1 Axes>"
            ]
          },
          "metadata": {},
          "output_type": "display_data"
        }
      ],
      "source": [
        "colors = [\"purple\", \"purple\", \"green\", \"green\", \"orange\", \"magenta\", \"blue\"]\n",
        "\n",
        "sns.set_style(\"whitegrid\")\n",
        "plt.figure(figsize=(16, 5))\n",
        "plt.yticks(np.arange(0, 1.1, 0.1))\n",
        "plt.ylabel(\"Accuracy\")\n",
        "plt.xlabel(\"Algorithms\")\n",
        "sns.barplot(x=list(accuracies.keys()), y=list(accuracies.values()), palette=colors)\n",
        "plt.show()"
      ]
    },
    {
      "cell_type": "markdown",
      "metadata": {
        "_uuid": "0f8e3cd00eb3f1c573468e4a8708d7a6ca8df67b",
        "id": "YhNsrmPg4-3t"
      },
      "source": [
        "## Confusion Matrix"
      ]
    },
    {
      "cell_type": "code",
      "execution_count": 41,
      "metadata": {
        "_uuid": "3a280577a5739b773e3ce0ca50d3cda671ba9a32",
        "id": "Ne3HSKO74-3u"
      },
      "outputs": [],
      "source": [
        "# Predicted values\n",
        "\n",
        "y_head_knn = knn.predict(X_test_scaled)\n",
        "y_head_builtin_knn = builtin_knn.predict(X_test_scaled)\n",
        "y_head_dtc = dtc.predict(X_test)\n",
        "y_head_builtin_dtc = builtin_dtc.predict(X_test)\n",
        "y_head_lr = lr.predict(X_test_scaled)\n",
        "y_head_svm = svc.predict(X_test_scaled)\n",
        "y_head_bayes = bayes.predict(X_test_scaled)\n"
      ]
    },
    {
      "cell_type": "code",
      "execution_count": 42,
      "metadata": {
        "_uuid": "89e2140778e93d3eecfc41d5b995cb9131633313",
        "id": "42d7u1lZ4-3u"
      },
      "outputs": [],
      "source": [
        "from sklearn.metrics import confusion_matrix\n",
        "\n",
        "cm_knn = confusion_matrix(y_test, y_head_knn)\n",
        "cm_b_knn = confusion_matrix(y_test, y_head_builtin_knn)\n",
        "cm_dtc = confusion_matrix(y_test, y_head_dtc)\n",
        "cm_b_dtc = confusion_matrix(y_test, y_head_builtin_dtc)\n",
        "cm_lr = confusion_matrix(y_test, y_head_lr)\n",
        "cm_svm = confusion_matrix(y_test, y_head_svm)\n",
        "cm_bayes = confusion_matrix(y_test, y_head_bayes)\n"
      ]
    },
    {
      "cell_type": "code",
      "execution_count": 43,
      "metadata": {
        "_uuid": "b91a2a68b5cc12ea58f255731cf76d49fd2ed5ec",
        "colab": {
          "base_uri": "https://localhost:8080/",
          "height": 589
        },
        "id": "yecyjsOZ4-3u",
        "outputId": "e6d6e985-547b-46b6-fe51-12d5f26089da"
      },
      "outputs": [
        {
          "data": {
            "image/png": "[encoded data removed]",
            "text/plain": [
              "<Figure size 1728x864 with 7 Axes>"
            ]
          },
          "metadata": {},
          "output_type": "display_data"
        }
      ],
      "source": [
        "plt.figure(figsize=(24, 12))\n",
        "\n",
        "plt.suptitle(\"Confusion Matrices\", fontsize=24)\n",
        "plt.subplots_adjust(wspace = 0.4, hspace= 0.4)\n",
        "\n",
        "cm = \" Confusion Matrix\"\n",
        "\n",
        "plt.subplot(3,3,1)\n",
        "plt.title(\"KNN\" + cm)\n",
        "sns.heatmap(cm_knn,annot=True,cmap=\"Blues\",fmt=\"d\",cbar=False, annot_kws={\"size\": 24})\n",
        "\n",
        "plt.subplot(3,3,2)\n",
        "plt.title(\"Built-in KNN\" + cm)\n",
        "sns.heatmap(cm_b_knn,annot=True,cmap=\"Blues\",fmt=\"d\",cbar=False, annot_kws={\"size\": 24})\n",
        "\n",
        "plt.subplot(3,3,3)\n",
        "plt.title(\"Decision Tree\" + cm)\n",
        "sns.heatmap(cm_dtc,annot=True,cmap=\"Blues\",fmt=\"d\",cbar=False, annot_kws={\"size\": 24})\n",
        "\n",
        "plt.subplot(3,3,4)\n",
        "plt.title(\"Built-in Decision Tree\" + cm)\n",
        "sns.heatmap(cm_b_dtc,annot=True,cmap=\"Blues\",fmt=\"d\",cbar=False, annot_kws={\"size\": 24})\n",
        "\n",
        "plt.subplot(3,3,5)\n",
        "plt.title(\"Logistoc Regression\" + cm)\n",
        "sns.heatmap(cm_lr,annot=True,cmap=\"Blues\",fmt=\"d\",cbar=False, annot_kws={\"size\": 24})\n",
        "\n",
        "plt.subplot(3,3,6)\n",
        "plt.title(\"SVM\" + cm)\n",
        "sns.heatmap(cm_svm,annot=True,cmap=\"Blues\",fmt=\"d\",cbar=False, annot_kws={\"size\": 24})\n",
        "\n",
        "plt.subplot(3,3,7)\n",
        "plt.title(\"Naive Bayes\" + cm)\n",
        "sns.heatmap(cm_bayes,annot=True,cmap=\"Blues\",fmt=\"d\",cbar=False, annot_kws={\"size\": 24})\n",
        "\n",
        "plt.show()"
      ]
    },
    {
      "cell_type": "markdown",
      "metadata": {
        "id": "rhog4bheCA2Y"
      },
      "source": [
        "## Вывод\n",
        "1. Видно, что реализованные классификаторы немного отстают от встроенных из-за меньшего количества гиперпараметров. \n",
        "2. confusion-матрицы показывают, что KNN, SVM и Decision Tree не выдают ложно-положительный результат, \"пессимистичны\", в отличие от логистической регрессии, наивного Байеса.\n",
        "3. Лучше всего на этой задаче себя показывают KNN и SVM. KNN, что любопытно, лучше всего работает с 1 соседом, вероятно, субъекты расположены достаточно кучно, что хорошо и для SVM."
      ]
    }
  ],
  "metadata": {
    "colab": {
      "provenance": []
    },
    "kernelspec": {
      "display_name": "Python 3.9.5 ('base')",
      "language": "python",
      "name": "python3"
    },
    "language_info": {
      "codemirror_mode": {
        "name": "ipython",
        "version": 3
      },
      "file_extension": ".py",
      "mimetype": "text/x-python",
      "name": "python",
      "nbconvert_exporter": "python",
      "pygments_lexer": "ipython3",
      "version": "3.9.5"
    },
    "vscode": {
      "interpreter": {
        "hash": "4b6754712932f724ff5a30aed71cf288f047cfe3a2d9124927113b19201c7d3e"
      }
    }
  },
  "nbformat": 4,
  "nbformat_minor": 0
}
